{
 "cells": [
  {
   "cell_type": "code",
   "execution_count": 1,
   "id": "12de6fb6",
   "metadata": {},
   "outputs": [],
   "source": [
    "import numpy as np\n",
    "import cv2\n",
    "from Utils import normalize, denormalize\n",
    "from skimage.transform import resize\n",
    "import imageio\n",
    "import tensorflow as tf\n",
    "import math\n",
    "\n",
    "img_shape = (384,384,3)\n",
    "downscale_factor = 4\n",
    "h, w = img_shape[0], img_shape[1]\n",
    "img_res = (h, w)        \n",
    "low_res = (h // downscale_factor, w // downscale_factor) "
   ]
  },
  {
   "cell_type": "code",
   "execution_count": 2,
   "id": "e9c7ed35",
   "metadata": {},
   "outputs": [],
   "source": [
    "def process_img(img_path):\n",
    "    img = imageio.imread(img_path).astype(np.float64)\n",
    "    img_hr = resize(img,img_res)\n",
    "    img_lr = resize(img,low_res)\n",
    "    img_hr = normalize(np.array([img_hr]))\n",
    "    img_lr = normalize(np.array([img_lr]))\n",
    "    return (img_hr, img_lr)\n",
    "\n",
    "def load_generator(path):\n",
    "    Gen = tf.keras.models.load_model(path, compile=False)\n",
    "    return Gen\n"
   ]
  },
  {
   "cell_type": "code",
   "execution_count": 3,
   "id": "938f085e",
   "metadata": {},
   "outputs": [],
   "source": [
    "def get_generated_images(generator, x_test_hr, x_test_lr):\n",
    "    \n",
    "    image_hr = denormalize(x_test_hr)\n",
    "    gen_img = generator.predict(x_test_lr)\n",
    "    generated_image = denormalize(gen_img)\n",
    "    \n",
    "    return (np.squeeze(image_hr), np.squeeze(generated_image))\n",
    "    "
   ]
  },
  {
   "cell_type": "code",
   "execution_count": 4,
   "id": "f5e7eadb",
   "metadata": {},
   "outputs": [],
   "source": [
    "def calc_psnr(img1, img2):\n",
    "    # img1 and img2 have range [0, 255]\n",
    "    img1 = img1.astype(np.float64)\n",
    "    img2 = img2.astype(np.float64)\n",
    "    mse = np.mean((img1 - img2)**2)\n",
    "    if mse == 0:\n",
    "        return float('inf')\n",
    "    \n",
    "    return 20 * math.log10(255.0 / math.sqrt(mse))"
   ]
  },
  {
   "cell_type": "code",
   "execution_count": 5,
   "id": "06898173",
   "metadata": {},
   "outputs": [],
   "source": [
    "def ssim(img1, img2):\n",
    "    C1 = (0.01 * 255)**2\n",
    "    C2 = (0.03 * 255)**2\n",
    "\n",
    "    img1 = img1.astype(np.float64)\n",
    "    img2 = img2.astype(np.float64)\n",
    "    kernel = cv2.getGaussianKernel(11, 1.5)\n",
    "    window = np.outer(kernel, kernel.transpose())\n",
    "\n",
    "    mu1 = cv2.filter2D(img1, -1, window)[5:-5, 5:-5]  # valid\n",
    "    mu2 = cv2.filter2D(img2, -1, window)[5:-5, 5:-5]\n",
    "    mu1_sq = mu1**2\n",
    "    mu2_sq = mu2**2\n",
    "    mu1_mu2 = mu1 * mu2\n",
    "    sigma1_sq = cv2.filter2D(img1**2, -1, window)[5:-5, 5:-5] - mu1_sq\n",
    "    sigma2_sq = cv2.filter2D(img2**2, -1, window)[5:-5, 5:-5] - mu2_sq\n",
    "    sigma12 = cv2.filter2D(img1 * img2, -1, window)[5:-5, 5:-5] - mu1_mu2\n",
    "\n",
    "    ssim_map = ((2 * mu1_mu2 + C1) * (2 * sigma12 + C2)) / ((mu1_sq + mu2_sq + C1) * (sigma1_sq + sigma2_sq + C2))\n",
    "    return ssim_map.mean()\n",
    "\n",
    "\n",
    "def calc_ssim(img1, img2):\n",
    "    '''calculate SSIM\n",
    "    the same outputs as MATLAB's\n",
    "    img1, img2: [0, 255]\n",
    "    '''\n",
    "    if img1.ndim == 2:  #灰色 双通道\n",
    "        return ssim(img1, img2)\n",
    "    elif img1.ndim == 3: #彩色 三通道\n",
    "        if img1.shape[2] == 3:\n",
    "            ssims = []\n",
    "            for i in range(3):\n",
    "                ssims.append(ssim(img1[:,:,i], img2[:,:,i]))\n",
    "            return np.array(ssims).mean()\n",
    "        elif img1.shape[2] == 1:  #灰色 双通道\n",
    "            return ssim(np.squeeze(img1), np.squeeze(img2))"
   ]
  },
  {
   "cell_type": "code",
   "execution_count": 6,
   "id": "809a12a5",
   "metadata": {},
   "outputs": [],
   "source": [
    "def get_metrics(model_path, img_path):\n",
    "    gen = load_generator(model_path)\n",
    "    (img_hr,img_lr) = process_img(img_path)\n",
    "    (image_hr, generated_image) = get_generated_images(gen, img_hr, img_lr)\n",
    "##    tensorflow 集成有psnr与ssim，可直接调用\n",
    "#     print(\"tf_psnr:\",tf.image.psnr(image_hr,generated_image,255))\n",
    "#     print(\"tf_ssim:\",tf.image.ssim(image_hr,generated_image,255))\n",
    "    psnr_ = calc_psnr(image_hr, generated_image)\n",
    "    ssim_ = calc_ssim(image_hr,generated_image)\n",
    "    return (psnr_, ssim_)"
   ]
  },
  {
   "cell_type": "code",
   "execution_count": 7,
   "id": "cb14edfa",
   "metadata": {},
   "outputs": [
    {
     "name": "stdout",
     "output_type": "stream",
     "text": [
      "tf_psnr: tf.Tensor(23.45739, shape=(), dtype=float32)\n",
      "tf_ssim: tf.Tensor(0.53680414, shape=(), dtype=float32)\n",
      "(384, 384, 3) 3\n",
      "(23.457391255485504, 0.5368093380352544)\n"
     ]
    }
   ],
   "source": [
    "model_path = './Trained_model/gen_model3000.h5'\n",
    "img_path = './datasets/DIV2K_train_HR/0001.png'\n",
    "print(get_metrics(model_path, img_path))"
   ]
  }
 ],
 "metadata": {
  "kernelspec": {
   "display_name": "Python 3 (ipykernel)",
   "language": "python",
   "name": "python3"
  },
  "language_info": {
   "codemirror_mode": {
    "name": "ipython",
    "version": 3
   },
   "file_extension": ".py",
   "mimetype": "text/x-python",
   "name": "python",
   "nbconvert_exporter": "python",
   "pygments_lexer": "ipython3",
   "version": "3.8.12"
  }
 },
 "nbformat": 4,
 "nbformat_minor": 5
}
