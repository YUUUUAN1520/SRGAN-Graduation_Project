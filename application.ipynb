{
 "cells": [
  {
   "cell_type": "code",
   "execution_count": 1,
   "id": "70c0ba94",
   "metadata": {},
   "outputs": [],
   "source": [
    "#python install pillow\n",
    "from PIL import Image\n",
    "import numpy as np\n",
    "from Utils import normalize, denormalize\n",
    "import tensorflow as tf\n",
    "\n",
    "sub_size = 96\n",
    "\n",
    "###-----------在此更改所需的图片路径-----------###\n",
    "file_path = \"C:\\\\Users\\\\Administrator\\\\Desktop\\\\\"\n",
    "image_name = '123.jpg'\n",
    "imgs_path = file_path + image_name\n",
    "###------------------------------------------###\n",
    "\n",
    "\n",
    "model_path = '.\\\\Trained_model\\\\gen_model3000.h5'\n",
    "output_path = '.\\\\application\\\\'"
   ]
  },
  {
   "cell_type": "code",
   "execution_count": 2,
   "id": "c532c77d",
   "metadata": {},
   "outputs": [],
   "source": [
    "#分割图片\n",
    "def cut_image(img_path):\n",
    "    image = Image.open(img_path)\n",
    "    width, height = image.size\n",
    "    count_x = width // sub_size\n",
    "    count_y = height // sub_size\n",
    "    \n",
    "    box_list = []\n",
    "    # (left, upper, right, lower)\n",
    "    for j in range(count_y):\n",
    "        for i in range(count_x):\n",
    "            box = (i*sub_size, j*sub_size, (i+1)*sub_size, (j+1)*sub_size)\n",
    "            box_list.append(box)\n",
    "    image_list = [image.crop(box) for box in box_list]\n",
    "    image_list_array = []\n",
    "    for img in image_list:\n",
    "        image = normalize(np.array(img).astype(np.float64))\n",
    "        image_list_array.append(image)\n",
    "    \n",
    "    return (count_x, count_y, image_list_array)"
   ]
  },
  {
   "cell_type": "code",
   "execution_count": 3,
   "id": "24f4020f",
   "metadata": {},
   "outputs": [],
   "source": [
    "def load_generator(path):\n",
    "    Gen = tf.keras.models.load_model(path, compile=False)\n",
    "    return Gen\n",
    "\n",
    "def gen_new_one(model_path, imgs_path, output_path):\n",
    "    gen = load_generator(model_path)\n",
    "    (x, y, image_list) = cut_image(imgs_path)\n",
    "    gen = load_generator(model_path)\n",
    "    image_gen_list = []\n",
    "    for i in range(len(image_list)):\n",
    "        image_gen_list.append(denormalize(gen.predict(np.array([image_list[i]]))))\n",
    "    rows = []\n",
    "    for j in range(y):\n",
    "        row = image_gen_list[j*x]\n",
    "        for i in range(1,x):\n",
    "            row = np.concatenate((row,image_gen_list[j*x+i]),axis=2)\n",
    "        rows.append(row)\n",
    "    column = rows[0]\n",
    "    for j in range(1,y):\n",
    "        column = np.concatenate((column,rows[j]),axis=1)\n",
    "    \n",
    "    Image.fromarray(np.uint8(column[0])).save(output_path +'gen_' + image_name)"
   ]
  },
  {
   "cell_type": "code",
   "execution_count": 4,
   "id": "553f4f9f",
   "metadata": {},
   "outputs": [],
   "source": [
    "if __name__ == \"__main__\":\n",
    "    gen_new_one(model_path, imgs_path, output_path)"
   ]
  },
  {
   "cell_type": "code",
   "execution_count": null,
   "id": "170725a4",
   "metadata": {},
   "outputs": [],
   "source": []
  }
 ],
 "metadata": {
  "kernelspec": {
   "display_name": "Python 3 (ipykernel)",
   "language": "python",
   "name": "python3"
  },
  "language_info": {
   "codemirror_mode": {
    "name": "ipython",
    "version": 3
   },
   "file_extension": ".py",
   "mimetype": "text/x-python",
   "name": "python",
   "nbconvert_exporter": "python",
   "pygments_lexer": "ipython3",
   "version": "3.8.12"
  },
  "toc-autonumbering": true,
  "toc-showmarkdowntxt": true
 },
 "nbformat": 4,
 "nbformat_minor": 5
}
